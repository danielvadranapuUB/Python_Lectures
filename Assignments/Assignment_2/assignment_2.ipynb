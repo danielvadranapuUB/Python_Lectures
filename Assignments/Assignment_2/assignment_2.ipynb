{
 "cells": [
  {
   "cell_type": "markdown",
   "metadata": {},
   "source": [
    "# Assignment-2 \n",
    "# Deadline: 23-07-2024, 11:59 PM\n",
    "\n",
    "## Each function will be tested on various test cases make sure you are writing for generic use case \n",
    "## call the functions to evaluate your code\n",
    "### Few questions are inspired from chatGPT and stackoverflow"
   ]
  },
  {
   "cell_type": "code",
   "execution_count": null,
   "metadata": {},
   "outputs": [],
   "source": [
    "# Implement matrix multiplication \n",
    "\n",
    "# assume the input will two 2D lists \n",
    "\n",
    "def matrix_multiplication(lst1, lst2):\n",
    "    output_matrix = []\n",
    "    return output_matrix"
   ]
  },
  {
   "cell_type": "code",
   "execution_count": null,
   "metadata": {},
   "outputs": [],
   "source": [
    "# count the number characters in a string\n",
    "# example input = \"Hello World!\"\n",
    "# print the count of characters H - 1, e -1, l -3,  o-2, W-1, r-1, d -1\n",
    "# \n",
    "\n",
    "def count_char(s):\n",
    "    \"\"\"\n",
    "    implement your code\n",
    "    \"\"\"\n"
   ]
  },
  {
   "cell_type": "code",
   "execution_count": null,
   "metadata": {},
   "outputs": [],
   "source": [
    "# classify age \n",
    "# 0-12 years: Child\n",
    "# 13-19 years: Teenager\n",
    "# 20-64 years: Adult\n",
    "# 65 and above: Senior\n",
    "\n",
    "# input will be the year the person born \n",
    "# print(classified output)\n",
    "def classify_age(year):\n",
    "    "
   ]
  },
  {
   "cell_type": "code",
   "execution_count": null,
   "metadata": {},
   "outputs": [],
   "source": [
    "# check whether a number is a prime or not \n",
    "# return True/False\n",
    "def check_prime(number):\n",
    "\n",
    "    return \n"
   ]
  },
  {
   "cell_type": "code",
   "execution_count": null,
   "metadata": {},
   "outputs": [],
   "source": [
    "# compute factorial of a number\n",
    "def factorial(n):\n",
    "    output = 0\n",
    "    return output"
   ]
  },
  {
   "cell_type": "code",
   "execution_count": null,
   "metadata": {},
   "outputs": [],
   "source": [
    "# check if a triangle is a equilateral or isosceless or scalene\n",
    "# input will three angles a, b,c\n",
    "# output print() # type of the triangle\n",
    "def check_type_of_traingle(a, b, c):\n",
    "    "
   ]
  },
  {
   "cell_type": "code",
   "execution_count": null,
   "metadata": {},
   "outputs": [],
   "source": [
    "# compute Summation of first n numbers\n",
    "# hint:  n*(n+1)/2\n",
    "\n",
    "def summation_n_numbers(n):\n",
    "    return output"
   ]
  },
  {
   "cell_type": "code",
   "execution_count": null,
   "metadata": {},
   "outputs": [],
   "source": [
    "# sort a list and return a sorted list\n",
    "# input is a list\n",
    "def list_sort(lst):\n",
    "    updated_list = []\n",
    "    return updated_list"
   ]
  },
  {
   "cell_type": "code",
   "execution_count": null,
   "metadata": {},
   "outputs": [],
   "source": [
    "#Check whether the given year is leap year or not?\n",
    "# Input: year Example: 1997\n",
    "# Output: bool (true/ false)\n",
    "\n",
    "def leapyear(year):\n",
    "    return "
   ]
  },
  {
   "cell_type": "code",
   "execution_count": null,
   "metadata": {},
   "outputs": [],
   "source": [
    "# return only unique elements in the list\n",
    "# example : [1, 1, 2, 2, 3, 4, 4]\n",
    "# output : [1, 2, 3, 4]  \n",
    "# Don't use set function \n",
    "\n",
    "def unique_element(lst):\n",
    "    unique_list = []\n",
    "    return unique_list"
   ]
  },
  {
   "cell_type": "code",
   "execution_count": null,
   "metadata": {},
   "outputs": [],
   "source": [
    "# print the below pattern\n",
    "\"\"\"\n",
    "    *\n",
    "   ***\n",
    "  *****\n",
    " *******\n",
    "*********\n",
    " *******\n",
    "  *****\n",
    "   ***\n",
    "    *\n",
    "\"\"\"\n"
   ]
  },
  {
   "cell_type": "code",
   "execution_count": null,
   "metadata": {},
   "outputs": [],
   "source": [
    "# merge two list \n",
    "# can use inbuilt function \n",
    "def merge_lists(lst1, list2):\n",
    "    lst3 = []\n",
    "    return lst3 "
   ]
  },
  {
   "cell_type": "code",
   "execution_count": null,
   "metadata": {},
   "outputs": [],
   "source": [
    "# Create a list comprehension that generates a list of squares of all even numbers from 1 to 20.\n",
    "\n"
   ]
  },
  {
   "cell_type": "code",
   "execution_count": null,
   "metadata": {},
   "outputs": [],
   "source": [
    "# slice a list and save the list \n",
    "# you try different methods of slicing \n",
    "#lst[::-1] lst[index1:index2] # lst[index1:] #lst[:index]\n"
   ]
  },
  {
   "cell_type": "code",
   "execution_count": null,
   "metadata": {},
   "outputs": [],
   "source": [
    "# append 10 random elenents into a list \n",
    "# lst1 = [1, 2, 3 ,4]\n",
    "\n",
    "def add_elements(lst):\n",
    "    return lst"
   ]
  },
  {
   "cell_type": "code",
   "execution_count": null,
   "metadata": {},
   "outputs": [],
   "source": [
    "# find index of a number in the list \n",
    "# input: [11, 12, 13, 14, 15] , number = 12\n",
    "# output : 1 (index)\n",
    "# return None if the number is not there in list\n",
    "# \n",
    "def find_index(lst, number):\n",
    "    return output "
   ]
  },
  {
   "cell_type": "code",
   "execution_count": null,
   "metadata": {},
   "outputs": [],
   "source": [
    "# implement Fibonacci of n numbers \n",
    "# 1, 1, 2, 3, 5, 8, 13, 21, ..... until n numbers\n",
    "\n",
    "def fibonacci(n):\n",
    "    output_list = []\n",
    "    return output_list"
   ]
  },
  {
   "cell_type": "code",
   "execution_count": null,
   "metadata": {},
   "outputs": [],
   "source": [
    "# implement gp series of n numbers \n",
    "# inputs a, r, n a is the first term, r is the common ratio ,n is the term number \n",
    "# hint: an = a.r^(n-1) # refer gp series in google\n",
    "# part 1: implement using While Loop \n",
    "# part 2: implement using List Comprehension\n",
    "def generate_gp_while(a, r, n):\n",
    "    gp_series = []\n",
    "    return gp_series\n",
    "\n",
    "def generate_gp_list_comprehension(a, r, n):\n",
    "    # you can use for \n",
    "    return []"
   ]
  },
  {
   "cell_type": "code",
   "execution_count": null,
   "metadata": {},
   "outputs": [],
   "source": [
    "# Check whether a number is a palindrome or not?\n",
    "# Example \"MALAYALAM\" \"MADAM\" \"DAD\", 12321\n",
    "# After reversing the input, if the output is same as input then the input is a palindrome. \n",
    "# Output : Bool (true/ false)\n",
    "def palindrome(s):\n",
    "    return "
   ]
  },
  {
   "cell_type": "markdown",
   "metadata": {},
   "source": [
    "Bonus question "
   ]
  },
  {
   "cell_type": "code",
   "execution_count": null,
   "metadata": {},
   "outputs": [],
   "source": [
    "# Find the pair of numbers from the list whose sum is equal to the target value. \n",
    "# Example:\n",
    "# Input : lst = [2, 3, 4, 8, 9], target= 13\n",
    "# Output: [4, 9]\n",
    "\n",
    "def abc(lst, target):\n",
    "    return []"
   ]
  }
 ],
 "metadata": {
  "language_info": {
   "name": "python"
  }
 },
 "nbformat": 4,
 "nbformat_minor": 2
}
