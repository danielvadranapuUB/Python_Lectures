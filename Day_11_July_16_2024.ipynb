{
 "cells": [
  {
   "cell_type": "code",
   "execution_count": null,
   "metadata": {},
   "outputs": [],
   "source": [
    "# git\n",
    "# Tuples and Dictionaries \n"
   ]
  },
  {
   "cell_type": "code",
   "execution_count": 7,
   "metadata": {},
   "outputs": [
    {
     "name": "stdout",
     "output_type": "stream",
     "text": [
      "1\n",
      "(1, 2, 3, 4, (5, 6))\n",
      "(1, 2, 3, 4, 5)\n"
     ]
    }
   ],
   "source": [
    "var =  (1, 2, 3, 4) # mutuable and immutable  you can just access it but can be changed\n",
    "lst = [1, 2, 3 ,4 ,5]\n",
    "\n",
    "# var[1] = 1 # can't be assigned\n",
    "print(var[0])\n",
    "var_1 = (1,2,3, 4, (5, 6))\n",
    "print(var_1)\n",
    "new = tuple(lst)\n",
    "print(new)"
   ]
  },
  {
   "cell_type": "code",
   "execution_count": 8,
   "metadata": {},
   "outputs": [
    {
     "name": "stdout",
     "output_type": "stream",
     "text": [
      "1\n",
      "2\n",
      "3\n",
      "4\n",
      "(5, 6)\n"
     ]
    }
   ],
   "source": [
    "for element in var_1:\n",
    "    print(element)"
   ]
  },
  {
   "cell_type": "code",
   "execution_count": 10,
   "metadata": {},
   "outputs": [
    {
     "name": "stdout",
     "output_type": "stream",
     "text": [
      "1 1\n",
      "2 2\n",
      "3 3\n",
      "4 4\n"
     ]
    }
   ],
   "source": [
    "var_2d = ((1, 1), (2, 2), (3, 3), (4, 4))\n",
    "\n",
    "for x, y in var_2d:\n",
    "    print(x, y)"
   ]
  },
  {
   "cell_type": "code",
   "execution_count": 11,
   "metadata": {},
   "outputs": [
    {
     "name": "stdout",
     "output_type": "stream",
     "text": [
      "1 1 1\n",
      "2 2 2\n",
      "3 3 3\n",
      "4 4 4\n"
     ]
    }
   ],
   "source": [
    "var_3d = ((1, 1,1), (2, 2,2), (3, 3,3), (4, 4,4))\n",
    "for x, y, z in var_3d:\n",
    "    print(x, y, z)"
   ]
  },
  {
   "cell_type": "code",
   "execution_count": 14,
   "metadata": {},
   "outputs": [],
   "source": [
    "# Dict\n",
    "# key value pair \n",
    "\n",
    "students = {\"student_1\": \"sravan\",\n",
    " \"student_2\": \"suchith\",\n",
    " \"student_3\": \"snehitha\",\n",
    " \"student_4\": \"sukesh\",\n",
    " \"student_5\": \"raja\"\n",
    " \n",
    " }\n"
   ]
  },
  {
   "cell_type": "code",
   "execution_count": 17,
   "metadata": {},
   "outputs": [
    {
     "name": "stdout",
     "output_type": "stream",
     "text": [
      "raja\n"
     ]
    }
   ],
   "source": [
    "print(students[\"student_5\"])"
   ]
  },
  {
   "cell_type": "code",
   "execution_count": 19,
   "metadata": {},
   "outputs": [
    {
     "name": "stdout",
     "output_type": "stream",
     "text": [
      "sravan sravan4994/Assignment_1\n",
      "sukesh sukesh_1/Assignment_1\n",
      "snehitha snehitha_2/Assignment_1\n",
      "raja Rava1729/Assignment_1\n"
     ]
    }
   ],
   "source": [
    "students = {\"sravan\": \"sravan4994\",\n",
    "            \"sukesh\": \"sukesh_1\",\n",
    "            \"snehitha\": \"snehitha_2\",\n",
    "            \"raja\": \"Rava1729\"}\n",
    "\n",
    "\n",
    "for key, value in students.items():\n",
    "    print(key, value+\"/Assignment_1\")"
   ]
  },
  {
   "cell_type": "code",
   "execution_count": null,
   "metadata": {},
   "outputs": [],
   "source": []
  }
 ],
 "metadata": {
  "kernelspec": {
   "display_name": "Python 3",
   "language": "python",
   "name": "python3"
  },
  "language_info": {
   "codemirror_mode": {
    "name": "ipython",
    "version": 3
   },
   "file_extension": ".py",
   "mimetype": "text/x-python",
   "name": "python",
   "nbconvert_exporter": "python",
   "pygments_lexer": "ipython3",
   "version": "3.10.12"
  }
 },
 "nbformat": 4,
 "nbformat_minor": 2
}
