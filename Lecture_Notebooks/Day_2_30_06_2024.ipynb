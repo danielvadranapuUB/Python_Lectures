{
 "cells": [
  {
   "cell_type": "code",
   "execution_count": null,
   "metadata": {},
   "outputs": [],
   "source": [
    "# Operators \n",
    "\n",
    "\n",
    "\"\"\"\n",
    "Arithmetic\n",
    "+ - * / %\n",
    "\n",
    "relational <, <=, > >=, ==\n",
    "\n",
    "Logical  and && or || not !  not equal to != \n",
    "\n",
    "Increment  ++ \n",
    "\n",
    "Decrement --\n",
    "\n",
    "Assignment = \n",
    "\"\"\""
   ]
  },
  {
   "cell_type": "code",
   "execution_count": 1,
   "metadata": {},
   "outputs": [
    {
     "name": "stdout",
     "output_type": "stream",
     "text": [
      "xy\n"
     ]
    }
   ],
   "source": [
    "x = \"x\"\n",
    "y = \"y\"\n",
    "print(x+y)"
   ]
  },
  {
   "cell_type": "code",
   "execution_count": 2,
   "metadata": {},
   "outputs": [
    {
     "name": "stdout",
     "output_type": "stream",
     "text": [
      "15\n"
     ]
    }
   ],
   "source": [
    "\n",
    "x = 5 \n",
    "y = 10\n",
    "\n",
    "print(x+y)"
   ]
  },
  {
   "cell_type": "code",
   "execution_count": 3,
   "metadata": {},
   "outputs": [
    {
     "ename": "NameError",
     "evalue": "name 'p' is not defined",
     "output_type": "error",
     "traceback": [
      "\u001b[0;31m---------------------------------------------------------------------------\u001b[0m",
      "\u001b[0;31mNameError\u001b[0m                                 Traceback (most recent call last)",
      "Cell \u001b[0;32mIn[3], line 1\u001b[0m\n\u001b[0;32m----> 1\u001b[0m \u001b[43mp\u001b[49m \u001b[38;5;241m+\u001b[39m k \n\u001b[1;32m      2\u001b[0m \u001b[38;5;28mprint\u001b[39m(p\u001b[38;5;241m+\u001b[39mk)\n",
      "\u001b[0;31mNameError\u001b[0m: name 'p' is not defined"
     ]
    }
   ],
   "source": [
    "p + k \n",
    "print(p+k)"
   ]
  },
  {
   "cell_type": "code",
   "execution_count": 4,
   "metadata": {},
   "outputs": [
    {
     "name": "stdout",
     "output_type": "stream",
     "text": [
      "30\n"
     ]
    }
   ],
   "source": [
    "p = 20\n",
    "k = 10\n",
    "print(p+k)"
   ]
  },
  {
   "cell_type": "code",
   "execution_count": 5,
   "metadata": {},
   "outputs": [
    {
     "data": {
      "text/plain": [
       "200"
      ]
     },
     "execution_count": 5,
     "metadata": {},
     "output_type": "execute_result"
    }
   ],
   "source": [
    "p*k"
   ]
  },
  {
   "cell_type": "code",
   "execution_count": 6,
   "metadata": {},
   "outputs": [
    {
     "data": {
      "text/plain": [
       "2.0"
      ]
     },
     "execution_count": 6,
     "metadata": {},
     "output_type": "execute_result"
    }
   ],
   "source": [
    "p/k # "
   ]
  },
  {
   "cell_type": "code",
   "execution_count": 7,
   "metadata": {},
   "outputs": [
    {
     "data": {
      "text/plain": [
       "0"
      ]
     },
     "execution_count": 7,
     "metadata": {},
     "output_type": "execute_result"
    }
   ],
   "source": [
    "p%k # remainder "
   ]
  },
  {
   "cell_type": "code",
   "execution_count": 8,
   "metadata": {},
   "outputs": [
    {
     "data": {
      "text/plain": [
       "False"
      ]
     },
     "execution_count": 8,
     "metadata": {},
     "output_type": "execute_result"
    }
   ],
   "source": [
    "p < k "
   ]
  },
  {
   "cell_type": "code",
   "execution_count": 9,
   "metadata": {},
   "outputs": [
    {
     "data": {
      "text/plain": [
       "True"
      ]
     },
     "execution_count": 9,
     "metadata": {},
     "output_type": "execute_result"
    }
   ],
   "source": [
    "p > k"
   ]
  },
  {
   "cell_type": "code",
   "execution_count": 10,
   "metadata": {},
   "outputs": [
    {
     "data": {
      "text/plain": [
       "False"
      ]
     },
     "execution_count": 10,
     "metadata": {},
     "output_type": "execute_result"
    }
   ],
   "source": [
    "p == k"
   ]
  },
  {
   "cell_type": "code",
   "execution_count": 11,
   "metadata": {},
   "outputs": [
    {
     "data": {
      "text/plain": [
       "False"
      ]
     },
     "execution_count": 11,
     "metadata": {},
     "output_type": "execute_result"
    }
   ],
   "source": [
    "p <= k "
   ]
  },
  {
   "cell_type": "code",
   "execution_count": 34,
   "metadata": {},
   "outputs": [
    {
     "name": "stdout",
     "output_type": "stream",
     "text": [
      "sravan Ram\n",
      "Ram\n"
     ]
    }
   ],
   "source": [
    "# \n",
    "# if else \n",
    "\n",
    "# ASCI values\n",
    "name1 = \"sravan\" # string it can do all the properties what a string has\n",
    "name2 = \"Ram\"\n",
    "\n",
    "\n",
    "# print(dir(name1))\n",
    "# print(name2.lower())\n",
    "# if name1 == \"sravan\" and name2 == \"ram\":\n",
    "if name1 == \"sravan\" or name2 == \"ram\":\n",
    "    print(name1, name2)\n",
    "else:\n",
    "    print(\"hero\")\n",
    "\n",
    "\n",
    "if name2 != \"sravan\":\n",
    "    print(name2)\n",
    "else:\n",
    "    print(\"hero\")\n",
    "\n",
    "\n",
    "# check if a number is  even or odd "
   ]
  },
  {
   "cell_type": "code",
   "execution_count": 30,
   "metadata": {},
   "outputs": [
    {
     "name": "stdout",
     "output_type": "stream",
     "text": [
      "index: 0 element in the list: 5\n",
      "index: 1 element in the list: 10\n",
      "index: 2 element in the list: 15\n",
      "index: 3 element in the list: 20\n",
      "index: 4 element in the list: 25\n"
     ]
    }
   ],
   "source": [
    "# \n",
    "# what are inbuilt python variables\n",
    "# list [] tuple ()  set ()  dict {} if in range enumerate print or and  len\n",
    "\n",
    "lst = [1, 2, 3, 4, 5] # index 0, 1 ,2, 3, 4 \n",
    "\n",
    "student_marks = [95, 45, 30, 0] # \n",
    "\n",
    "# print(len(lst)) # size of the list \n",
    "\n",
    "\n",
    "\n",
    "\n",
    "# loop\n",
    "# syntax \n",
    "# for i in range(100):\n",
    "#     print(i)\n",
    "\n",
    "for i in range(len(lst)): # untill 4\n",
    "    # print(\"index:\", i , \"element in the list:\", lst[i]*5)\n",
    "    print(f\"index:{i}, element in the list {lst[i]*5}\") # fstrings \n",
    "\n",
    "\n",
    "# for element in lst: # \n",
    "#     print(element) \n",
    "\n",
    "# task2 \n",
    "\n",
    "# two table"
   ]
  },
  {
   "cell_type": "code",
   "execution_count": null,
   "metadata": {},
   "outputs": [],
   "source": [
    "# one minute joining from mobiler"
   ]
  }
 ],
 "metadata": {
  "kernelspec": {
   "display_name": "Python 3",
   "language": "python",
   "name": "python3"
  },
  "language_info": {
   "codemirror_mode": {
    "name": "ipython",
    "version": 3
   },
   "file_extension": ".py",
   "mimetype": "text/x-python",
   "name": "python",
   "nbconvert_exporter": "python",
   "pygments_lexer": "ipython3",
   "version": "3.10.12"
  }
 },
 "nbformat": 4,
 "nbformat_minor": 2
}
