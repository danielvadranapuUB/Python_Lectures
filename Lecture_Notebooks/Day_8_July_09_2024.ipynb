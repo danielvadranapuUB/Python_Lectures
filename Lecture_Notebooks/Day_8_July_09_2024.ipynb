{
 "cells": [
  {
   "cell_type": "code",
   "execution_count": null,
   "metadata": {},
   "outputs": [],
   "source": [
    "# nested if elif else \n",
    "# nested for "
   ]
  },
  {
   "cell_type": "code",
   "execution_count": null,
   "metadata": {},
   "outputs": [],
   "source": [
    "# problem solving \n",
    "# advanced oops\n",
    "# analysis of an alogrithm "
   ]
  },
  {
   "cell_type": "code",
   "execution_count": 7,
   "metadata": {},
   "outputs": [
    {
     "name": "stdout",
     "output_type": "stream",
     "text": [
      "0 1\n",
      "1 2\n",
      "2 3\n",
      "3 4\n"
     ]
    }
   ],
   "source": [
    "lst = [1, 2, 3, 4]\n",
    "for index, data in enumerate(lst):\n",
    "    print(index, data)"
   ]
  },
  {
   "cell_type": "code",
   "execution_count": 10,
   "metadata": {},
   "outputs": [],
   "source": [
    "def addition(x,y):\n",
    "    return x+y\n",
    "\n",
    "def subtraction(x,y):\n",
    "    return x-y\n",
    "\n",
    "def multiplication(x,y):\n",
    "    return x*y\n",
    "\n",
    "def division(x,y):\n",
    "    return x/y"
   ]
  },
  {
   "cell_type": "code",
   "execution_count": 11,
   "metadata": {},
   "outputs": [],
   "source": [
    "def nested_for(lst):\n",
    "    new_list = []\n",
    "    for i in range(len(lst)):\n",
    "        for j in range(len(lst)):\n",
    "            print(f\"index {i, j} and the element in the index: {lst[i][j]}\")\n",
    "        "
   ]
  },
  {
   "cell_type": "code",
   "execution_count": 12,
   "metadata": {},
   "outputs": [
    {
     "name": "stdout",
     "output_type": "stream",
     "text": [
      "index (0, 0) and the element in the index: 1\n",
      "index (0, 1) and the element in the index: 2\n",
      "index (0, 2) and the element in the index: 3\n",
      "index (0, 3) and the element in the index: 4\n",
      "index (1, 0) and the element in the index: 5\n",
      "index (1, 1) and the element in the index: 6\n",
      "index (1, 2) and the element in the index: 7\n",
      "index (1, 3) and the element in the index: 8\n",
      "index (2, 0) and the element in the index: 9\n",
      "index (2, 1) and the element in the index: 10\n",
      "index (2, 2) and the element in the index: 11\n",
      "index (2, 3) and the element in the index: 12\n",
      "index (3, 0) and the element in the index: 13\n",
      "index (3, 1) and the element in the index: 14\n",
      "index (3, 2) and the element in the index: 15\n",
      "index (3, 3) and the element in the index: 16\n"
     ]
    }
   ],
   "source": [
    "lst = [[1, 2, 3, 4],\n",
    "        [5, 6, 7, 8],\n",
    "        [9, 10, 11, 12],\n",
    "        [13, 14, 15, 16]]\n",
    "\n",
    "nested_for(lst)"
   ]
  },
  {
   "cell_type": "code",
   "execution_count": 39,
   "metadata": {},
   "outputs": [
    {
     "ename": "TypeError",
     "evalue": "nested_for() missing 1 required positional argument: 'operation'",
     "output_type": "error",
     "traceback": [
      "\u001b[0;31m---------------------------------------------------------------------------\u001b[0m",
      "\u001b[0;31mTypeError\u001b[0m                                 Traceback (most recent call last)",
      "Cell \u001b[0;32mIn[39], line 6\u001b[0m\n\u001b[1;32m      1\u001b[0m lst \u001b[38;5;241m=\u001b[39m [[\u001b[38;5;241m1\u001b[39m, \u001b[38;5;241m2\u001b[39m, \u001b[38;5;241m3\u001b[39m, \u001b[38;5;241m4\u001b[39m],\n\u001b[1;32m      2\u001b[0m         [\u001b[38;5;241m5\u001b[39m, \u001b[38;5;241m6\u001b[39m, \u001b[38;5;241m7\u001b[39m, \u001b[38;5;241m8\u001b[39m],\n\u001b[1;32m      3\u001b[0m         [\u001b[38;5;241m9\u001b[39m, \u001b[38;5;241m10\u001b[39m, \u001b[38;5;241m11\u001b[39m, \u001b[38;5;241m12\u001b[39m],\n\u001b[1;32m      4\u001b[0m         [\u001b[38;5;241m13\u001b[39m, \u001b[38;5;241m14\u001b[39m, \u001b[38;5;241m15\u001b[39m, \u001b[38;5;241m16\u001b[39m]]\n\u001b[0;32m----> 6\u001b[0m \u001b[43mnested_for\u001b[49m\u001b[43m(\u001b[49m\u001b[43mlst\u001b[49m\u001b[43m)\u001b[49m \u001b[38;5;66;03m#error\u001b[39;00m\n",
      "\u001b[0;31mTypeError\u001b[0m: nested_for() missing 1 required positional argument: 'operation'"
     ]
    }
   ],
   "source": [
    "lst = [[1, 2, 3, 4],\n",
    "        [5, 6, 7, 8],\n",
    "        [9, 10, 11, 12],\n",
    "        [13, 14, 15, 16]]\n",
    "\n",
    "nested_for(lst) #error"
   ]
  },
  {
   "cell_type": "code",
   "execution_count": 40,
   "metadata": {},
   "outputs": [
    {
     "name": "stdout",
     "output_type": "stream",
     "text": [
      "temporary list [2, 4, 6, 8]\n",
      "temporary list [10, 12, 14, 16]\n",
      "temporary list [18, 20, 22, 24]\n",
      "temporary list [26, 28, 30, 32]\n",
      "sravan list: [2, 4, 6, 8, 10, 12, 14, 16, 18, 20, 22, 24, 26, 28, 30, 32]\n",
      "full matrix: [[2, 4, 6, 8], [10, 12, 14, 16], [18, 20, 22, 24], [26, 28, 30, 32]]\n"
     ]
    }
   ],
   "source": [
    "lst = [[1, 2, 3, 4],\n",
    "        [5, 6, 7, 8],\n",
    "        [9, 10, 11, 12],\n",
    "        [13, 14, 15, 16]]\n",
    "\n",
    "output_list = nested_for(lst, \"addition\")\n",
    "print(\"full matrix:\", output_list)"
   ]
  },
  {
   "cell_type": "code",
   "execution_count": 42,
   "metadata": {},
   "outputs": [
    {
     "name": "stdout",
     "output_type": "stream",
     "text": [
      "[1, 2, 4]\n",
      "[5, 6, 7, 8]\n"
     ]
    }
   ],
   "source": [
    "lst = [1, 2, 4, 5, 6 ,7, 8] # slicing\n",
    "print(lst[0:3]) # lst[start_index:final_index]\n",
    "print(lst[3:]) # if you don't mention the final_index it will print till the last element"
   ]
  },
  {
   "cell_type": "code",
   "execution_count": 43,
   "metadata": {},
   "outputs": [
    {
     "name": "stdout",
     "output_type": "stream",
     "text": [
      "[]\n"
     ]
    }
   ],
   "source": [
    "print(lst[1:1]) # 2, 2, emi_radhu sukesh, raja, []"
   ]
  },
  {
   "cell_type": "code",
   "execution_count": 45,
   "metadata": {},
   "outputs": [
    {
     "name": "stdout",
     "output_type": "stream",
     "text": [
      "suchith\n"
     ]
    }
   ],
   "source": [
    "import random\n",
    "\n",
    "lst = [\"daniel\", \"sravan\", \"snehitha\", \"ankita\", \"suchith\", \"raja\", \"sukesh\", \"sumanth\"]\n",
    "\n",
    "random_name = random.choice(lst)\n",
    "print(random_name)"
   ]
  },
  {
   "cell_type": "code",
   "execution_count": null,
   "metadata": {},
   "outputs": [],
   "source": [
    "# to do \n",
    "\"\"\"  subtraction , division\"\"\""
   ]
  }
 ],
 "metadata": {
  "kernelspec": {
   "display_name": "Python 3",
   "language": "python",
   "name": "python3"
  },
  "language_info": {
   "codemirror_mode": {
    "name": "ipython",
    "version": 3
   },
   "file_extension": ".py",
   "mimetype": "text/x-python",
   "name": "python",
   "nbconvert_exporter": "python",
   "pygments_lexer": "ipython3",
   "version": "3.10.12"
  }
 },
 "nbformat": 4,
 "nbformat_minor": 2
}
