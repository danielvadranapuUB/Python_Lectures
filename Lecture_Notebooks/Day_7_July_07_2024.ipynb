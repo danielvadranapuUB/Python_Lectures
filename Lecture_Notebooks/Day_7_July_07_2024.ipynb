{
 "cells": [
  {
   "cell_type": "code",
   "execution_count": null,
   "metadata": {},
   "outputs": [],
   "source": [
    "# nested for \n",
    "# nested if "
   ]
  },
  {
   "cell_type": "code",
   "execution_count": 4,
   "metadata": {},
   "outputs": [
    {
     "name": "stdout",
     "output_type": "stream",
     "text": [
      "daniel is quite\n"
     ]
    }
   ],
   "source": [
    "name = \"daniel\"\n",
    "\n",
    "\n",
    "\n",
    "if name == \"sravan\": # if this condition is passed  \n",
    "    print(f\"{name} is a good person\") # this will be executed\n",
    "elif name == \"sukesh\":\n",
    "    print(f\"{name} is intelligent\")\n",
    "elif name == \"suchith\":\n",
    "    print(f\"{name} is hard working\")\n",
    "elif name == \"ankita\":\n",
    "    print(f\"{name} is quick\")\n",
    "else:\n",
    "    print(f\"{name} is quite\")\n"
   ]
  },
  {
   "cell_type": "code",
   "execution_count": 6,
   "metadata": {},
   "outputs": [],
   "source": [
    "def test(lst):\n",
    "    new_lst  = []\n",
    "    for index, data in enumerate(lst):\n",
    "        if data > 0  and index == 0:\n",
    "            data = data*10\n",
    "            new_lst.append(data)\n",
    "        elif data % 2  == 0:\n",
    "            new_lst.append(data/2)\n",
    "        elif data==3 :\n",
    "            data = data*3\n",
    "            new_lst.append(data)\n",
    "        else:\n",
    "            data = data-1 \n",
    "            new_lst.append(data)\n",
    "    return new_lst\n",
    "\n"
   ]
  },
  {
   "cell_type": "code",
   "execution_count": 7,
   "metadata": {},
   "outputs": [
    {
     "ename": "NameError",
     "evalue": "name 'lst' is not defined",
     "output_type": "error",
     "traceback": [
      "\u001b[0;31m---------------------------------------------------------------------------\u001b[0m",
      "\u001b[0;31mNameError\u001b[0m                                 Traceback (most recent call last)",
      "Cell \u001b[0;32mIn[7], line 3\u001b[0m\n\u001b[1;32m      1\u001b[0m \u001b[38;5;66;03m# lst  = [1, 2, 3, 4 ]\u001b[39;00m\n\u001b[0;32m----> 3\u001b[0m new_lst \u001b[38;5;241m=\u001b[39m test(\u001b[43mlst\u001b[49m) \u001b[38;5;66;03m# 0, error,   no_idea,  emo,error  idea_ledhu, emptylist   \u001b[39;00m\n",
      "\u001b[0;31mNameError\u001b[0m: name 'lst' is not defined"
     ]
    }
   ],
   "source": [
    "# lst  = [1, 2, 3, 4 ]\n",
    "\n",
    "new_lst = test(lst) # 0, error,   no_idea,  emo,error  idea_ledhu, emptylist   "
   ]
  },
  {
   "cell_type": "code",
   "execution_count": 10,
   "metadata": {},
   "outputs": [],
   "source": [
    "def test(lst):\n",
    "    new_lst  = []\n",
    "    for index, data in enumerate(lst):\n",
    "        if data > 0  and index == 0:\n",
    "            data = data*10\n",
    "            new_lst.append(data) # 10 \n",
    "        elif data % 2  == 0:\n",
    "            new_lst.append(data/2)\n",
    "        elif data==3 :\n",
    "            data = data*3\n",
    "            new_lst.append(data)\n",
    "        else:\n",
    "            data = data-1 \n",
    "            new_lst.append(data)\n",
    "        \n",
    "    return new_lst\n",
    " \n",
    "# lst  = [1, 2, 3, 5]\n",
    "# test(lst) # what it will return \n",
    "\n",
    "# [10, 1.0, 9, 2.0]\n",
    "\n",
    "lst  = [1, 2, 3, 5]\n",
    "new_lst = test(lst) # [0] #1 ,[], [] # WHEN WE CALL A FUNCTION IT WILL RETURN WHATEVER THE DATA TYPE OR VALUE WILL RETURNED \n",
    "# [4], [4], [4], [4]"
   ]
  },
  {
   "cell_type": "code",
   "execution_count": 11,
   "metadata": {},
   "outputs": [
    {
     "name": "stdout",
     "output_type": "stream",
     "text": [
      "[10, 1.0, 9, 4]\n"
     ]
    }
   ],
   "source": [
    "# print(new_lst)"
   ]
  },
  {
   "cell_type": "code",
   "execution_count": null,
   "metadata": {},
   "outputs": [],
   "source": [
    "lst  = [1, 2, 3, 5]\n",
    "test(lst) # what will be the output"
   ]
  },
  {
   "cell_type": "code",
   "execution_count": 14,
   "metadata": {},
   "outputs": [
    {
     "name": "stdout",
     "output_type": "stream",
     "text": [
      "None\n"
     ]
    }
   ],
   "source": [
    "def test(lst):\n",
    "    new_lst  = []\n",
    "    for index, data in enumerate(lst):\n",
    "        if data > 0  and index == 0:\n",
    "            data = data*10\n",
    "            new_lst.append(data) # 10 \n",
    "        elif data % 2  == 0:\n",
    "            new_lst.append(data/2)\n",
    "        elif data==3 :\n",
    "            data = data*3\n",
    "            new_lst.append(data)\n",
    "        else:\n",
    "            data = data-1 \n",
    "            new_lst.append(data)\n",
    "        \n",
    "    # return new_lst\n",
    " \n",
    "lst  = [1, 2, 3, 5]\n",
    "print(test(lst)) # what it will return None "
   ]
  },
  {
   "cell_type": "code",
   "execution_count": 20,
   "metadata": {},
   "outputs": [],
   "source": [
    "def test(lst):\n",
    "    new_lst  = []\n",
    "    for index, data in enumerate(lst):\n",
    "        if data > 0  and index == 0:\n",
    "            data = data*10\n",
    "            new_lst.append(data) # 10 \n",
    "        elif data % 2  == 0:\n",
    "            new_lst.append(data/2)\n",
    "        elif data==3 :\n",
    "            data = data*3\n",
    "            new_lst.append(data)\n",
    "        else:\n",
    "            data = data-1 \n",
    "            new_lst.append(data)\n",
    "\n",
    "    return new_lst, 5 # new_list,  data"
   ]
  },
  {
   "cell_type": "code",
   "execution_count": 21,
   "metadata": {},
   "outputs": [
    {
     "name": "stdout",
     "output_type": "stream",
     "text": [
      "[10, 1.0, 9, 4]\n",
      "5\n",
      "([10, 1.0, 9, 4], 5)\n"
     ]
    }
   ],
   "source": [
    "new_lst, data = test(lst)\n",
    "print(new_lst)\n",
    "print(data)\n",
    "print(test(lst))"
   ]
  },
  {
   "cell_type": "code",
   "execution_count": 31,
   "metadata": {},
   "outputs": [],
   "source": [
    "def test(lst):\n",
    "    new_lst = []\n",
    "    for index, data in enumerate(lst):\n",
    "        data = data*10\n",
    "        new_lst.append(data)\n",
    "        return new_lst, data # [], 1\n",
    "        if data > 0  and index == 0:\n",
    "            data = data*10\n",
    "            new_lst.append(data) # 10 \n",
    "            return new_lst, data"
   ]
  },
  {
   "cell_type": "code",
   "execution_count": 32,
   "metadata": {},
   "outputs": [
    {
     "name": "stdout",
     "output_type": "stream",
     "text": [
      "[10] 10\n"
     ]
    }
   ],
   "source": [
    "lst = [1, 2, 3, 4]\n",
    "new_lst, data = test(lst)\n",
    "print(new_lst, data)"
   ]
  },
  {
   "cell_type": "code",
   "execution_count": null,
   "metadata": {},
   "outputs": [],
   "source": [
    "# implement calculator by Monday addition, multiplication, subtraction, division\n",
    "\n",
    "# implement in function\n",
    "# input two numbers x, y and string\n",
    "# x = 6 , y = 7 , \"addition\"\n",
    "# 13\n",
    "# x = 6 , y = 7 , \"subtraction\"\n",
    "# -1\n",
    "# x = 6 , y = 7 , \"multiplication\"\n",
    "# 42\n",
    "# x = 6 , y = 7 , \"division\"\n",
    "# 0.8571\n"
   ]
  },
  {
   "cell_type": "code",
   "execution_count": null,
   "metadata": {},
   "outputs": [],
   "source": [
    "def calcluator(x, y, operation):\n",
    "    return "
   ]
  },
  {
   "cell_type": "code",
   "execution_count": 4,
   "metadata": {},
   "outputs": [],
   "source": []
  },
  {
   "cell_type": "code",
   "execution_count": null,
   "metadata": {},
   "outputs": [],
   "source": []
  }
 ],
 "metadata": {
  "kernelspec": {
   "display_name": "Python 3",
   "language": "python",
   "name": "python3"
  },
  "language_info": {
   "codemirror_mode": {
    "name": "ipython",
    "version": 3
   },
   "file_extension": ".py",
   "mimetype": "text/x-python",
   "name": "python",
   "nbconvert_exporter": "python",
   "pygments_lexer": "ipython3",
   "version": "3.10.12"
  }
 },
 "nbformat": 4,
 "nbformat_minor": 2
}
