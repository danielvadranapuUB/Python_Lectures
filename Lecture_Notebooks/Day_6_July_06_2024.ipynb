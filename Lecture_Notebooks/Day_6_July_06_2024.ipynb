{
 "cells": [
  {
   "cell_type": "code",
   "execution_count": 4,
   "metadata": {},
   "outputs": [
    {
     "name": "stdout",
     "output_type": "stream",
     "text": [
      "x:0, y:10\n",
      "x:1, y:20\n",
      "x:2, y:40\n",
      "x:3, y:50\n",
      "x:4, y:60\n"
     ]
    }
   ],
   "source": [
    "\n",
    "# lst = \"danielvadranapu\" # its a string data type\n",
    "\n",
    "lst = [10, 20, 40, 50, 60] # list data type\n",
    "\n",
    "for x, y in enumerate(lst):\n",
    "    print(f\"x:{x}, y:{y}\")\n",
    "\n",
    "# for index, data in enumerate(lst):\n",
    "#     print(f\"index:{index}, data:{data}\")\n"
   ]
  },
  {
   "cell_type": "code",
   "execution_count": 6,
   "metadata": {},
   "outputs": [
    {
     "name": "stdout",
     "output_type": "stream",
     "text": [
      "100\n",
      "1\n"
     ]
    }
   ],
   "source": [
    "count = 0\n",
    "x = 0\n",
    "for i in range(100):\n",
    "    count+=1 \n",
    "    x=+1\n",
    "\n",
    "print(count) # 100, 100, 100, 100\n",
    "print(x) # 1, no clue, 1, 1"
   ]
  },
  {
   "cell_type": "code",
   "execution_count": null,
   "metadata": {},
   "outputs": [],
   "source": [
    "lst = [1, 2, 3, 4]"
   ]
  },
  {
   "cell_type": "code",
   "execution_count": 17,
   "metadata": {},
   "outputs": [
    {
     "ename": "SyntaxError",
     "evalue": "invalid syntax. Perhaps you forgot a comma? (4186970387.py, line 14)",
     "output_type": "error",
     "traceback": [
      "\u001b[0;36m  Cell \u001b[0;32mIn[17], line 14\u001b[0;36m\u001b[0m\n\u001b[0;31m    print(\"count\", count, \"i\" i)\u001b[0m\n\u001b[0m                          ^\u001b[0m\n\u001b[0;31mSyntaxError\u001b[0m\u001b[0;31m:\u001b[0m invalid syntax. Perhaps you forgot a comma?\n"
     ]
    }
   ],
   "source": [
    "\n",
    "# 10)100(10\n",
    "#    100\n",
    "#    ___\n",
    "#     0    \n",
    "\n",
    "# print(f\"\")\n",
    "\n",
    "# print(\"\")\n",
    "count = 0\n",
    "for i in range(100):\n",
    "    count+=1\n",
    "    if count % 10 == 0: # \n",
    "        print(f\"count: {count} i:{i+1}\") # it will print 10 \n",
    "        # print(\"count\", count, \"i\" i) \n",
    "        # print(f\"count {lst} i :{i+1}\")\n",
    "        # count = 0 # count is getting updated\n",
    "        # print(f\"count: {count}: {i+1}\")\n",
    "    # else:\n",
    "    #     print(f\"Happy Independence day, {i}\")"
   ]
  },
  {
   "cell_type": "code",
   "execution_count": 19,
   "metadata": {},
   "outputs": [
    {
     "name": "stdout",
     "output_type": "stream",
     "text": [
      "Python 3.10.12\n"
     ]
    }
   ],
   "source": [
    "!python3 --version  #"
   ]
  },
  {
   "cell_type": "code",
   "execution_count": 45,
   "metadata": {},
   "outputs": [
    {
     "name": "stdout",
     "output_type": "stream",
     "text": [
      "[1.9, 2.3, 4.5]\n"
     ]
    }
   ],
   "source": [
    "# lists \n",
    "\n",
    "\n",
    "lst = [11, 16, 17, 15, 14, 12]\n",
    "sotred_lsit  = sorted(lst)\n",
    "# print(sotred_lsit)\n",
    "\n",
    "# print(sorted(lst)) # sorting the list \n",
    "\n",
    "# print(dir(lst))\n",
    "# lst = [\"a\", \"b\", \"c\"] # empty list\n",
    "# lst = [1,2,3] # integers \n",
    "# lst = [\"1\", \"2\", \"3\"] # ['1', '2', '3'] # string\n",
    "\n",
    "# lst  = [123]\n",
    "# lst = [1 2 3] # what  kind of  error--->invalid syntax \n",
    "lst = [1.9, 2.3, 4.5] # float\n",
    "for i in range(10):\n",
    "    lst.append(i) #\n",
    "    lst.remove(i)\n",
    "print(lst) # [], [1.9, 2.3, 4.5]\n",
    "\n",
    "# print(lst)\n",
    "\n",
    "# # lst[0] = 9\n",
    "# print(lst)\n",
    "# ind = lst.index(9) # (0, 320), 319, 320, (320, 0), \n",
    "# print(ind)\n",
    "# min_ = min(lst)\n",
    "# print(\"minimum element in the list\", lst) \n",
    "# print(\"Minimum element index in the lst\", lst.index(min_))\n",
    "# print(\"Minimum element index in the lst\", lst.index(min(lst)))\n",
    "# # lst.reverse()\n",
    "# print(lst.pop())\n",
    "# print(lst)\n"
   ]
  },
  {
   "cell_type": "code",
   "execution_count": 46,
   "metadata": {},
   "outputs": [
    {
     "name": "stdout",
     "output_type": "stream",
     "text": [
      "['sravan', 'snehitha', 'ankita', 'suchith', 'raja']\n"
     ]
    }
   ],
   "source": [
    "lst = [\"daniel\", \"sravan\", \"snehitha\", \"ankita\", \"suchith\", \"raja\", \"sukesh\"]\n",
    "\n",
    "for ele in lst:\n",
    "\n",
    "    if ele == \"daniel\" or ele == \"sukesh\":\n",
    "        lst.remove(ele)\n",
    "\n",
    "print(lst) # "
   ]
  },
  {
   "cell_type": "code",
   "execution_count": null,
   "metadata": {},
   "outputs": [],
   "source": [
    "# import random\n",
    "\n",
    "\n",
    "# for i in range()\n",
    "\n",
    "\n",
    "# dct = {\"daniel\": 0,\n",
    "#        \"daniel\": 1,\n",
    "#        \"daniel\": 2}\n",
    "\n"
   ]
  },
  {
   "cell_type": "code",
   "execution_count": 33,
   "metadata": {},
   "outputs": [
    {
     "name": "stdout",
     "output_type": "stream",
     "text": [
      "{0: 11, 1: 12, 2: 22, 3: 33, 4: 24}\n"
     ]
    }
   ],
   "source": [
    "lst = [11, 12,22, 33, 24]\n",
    "dct = {} # empty dictionary \n",
    "\n",
    "for i in range(len(lst)):\n",
    "    dct[i] = lst[i]\n",
    "\n",
    "print(dct) # output of dictionary 0:11, 1:12, 2:22, 3:33, 4:24|"
   ]
  },
  {
   "cell_type": "code",
   "execution_count": 32,
   "metadata": {},
   "outputs": [
    {
     "name": "stdout",
     "output_type": "stream",
     "text": [
      "m\n",
      "m\n",
      "m\n",
      "f\n",
      "m\n",
      "f\n",
      "['daniel', 'sravan', 'suchith', 'raj']\n",
      "['ankitha', 'snehitha']\n"
     ]
    }
   ],
   "source": [
    "male = []\n",
    "female = []\n",
    "\n",
    "dct = {\"daniel\": \"M\",\n",
    "       \"sravan\": \"M\", \n",
    "       \"suchith\": \"M\",\n",
    "       \"ankitha\": \"f\",\n",
    "       \"raj\": \"m\",\n",
    "       \"snehitha\":\"f\"}\n",
    "\n",
    "for key, value in dct.items():\n",
    "    # print(value.lower())\n",
    "    if value.lower() == \"m\":\n",
    "        male.append(key)\n",
    "    elif value.lower() == \"f\":\n",
    "        female.append(key)\n",
    "\n",
    "\n",
    "print(male) # daniel suchith raj  sravan\n",
    "print(female) # snehitha, ankita\n",
    "\n"
   ]
  }
 ],
 "metadata": {
  "kernelspec": {
   "display_name": "Python 3",
   "language": "python",
   "name": "python3"
  },
  "language_info": {
   "codemirror_mode": {
    "name": "ipython",
    "version": 3
   },
   "file_extension": ".py",
   "mimetype": "text/x-python",
   "name": "python",
   "nbconvert_exporter": "python",
   "pygments_lexer": "ipython3",
   "version": "3.10.12"
  }
 },
 "nbformat": 4,
 "nbformat_minor": 2
}
