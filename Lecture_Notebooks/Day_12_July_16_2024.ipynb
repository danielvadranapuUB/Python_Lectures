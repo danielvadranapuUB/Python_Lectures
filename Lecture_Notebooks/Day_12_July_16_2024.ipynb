{
 "cells": [
  {
   "cell_type": "code",
   "execution_count": null,
   "metadata": {},
   "outputs": [],
   "source": [
    "# key, value pairs, dictionaries \n",
    "# lists, tuples # immutable (you can't modify)\n",
    "# "
   ]
  },
  {
   "cell_type": "code",
   "execution_count": 2,
   "metadata": {},
   "outputs": [],
   "source": [
    "student = {\n",
    "    \"name\": \"John Doe\",\n",
    "    \"age\": 21,\n",
    "    \"major\": \"Computer Science\",\n",
    "    \"graduated\": False\n",
    "} # left sides are keys and right side are values "
   ]
  },
  {
   "cell_type": "code",
   "execution_count": 9,
   "metadata": {},
   "outputs": [
    {
     "name": "stdout",
     "output_type": "stream",
     "text": [
      "<class 'str'>\n",
      "['__add__', '__class__', '__contains__', '__delattr__', '__dir__', '__doc__', '__eq__', '__format__', '__ge__', '__getattribute__', '__getitem__', '__getnewargs__', '__gt__', '__hash__', '__init__', '__init_subclass__', '__iter__', '__le__', '__len__', '__lt__', '__mod__', '__mul__', '__ne__', '__new__', '__reduce__', '__reduce_ex__', '__repr__', '__rmod__', '__rmul__', '__setattr__', '__sizeof__', '__str__', '__subclasshook__', 'capitalize', 'casefold', 'center', 'count', 'encode', 'endswith', 'expandtabs', 'find', 'format', 'format_map', 'index', 'isalnum', 'isalpha', 'isascii', 'isdecimal', 'isdigit', 'isidentifier', 'islower', 'isnumeric', 'isprintable', 'isspace', 'istitle', 'isupper', 'join', 'ljust', 'lower', 'lstrip', 'maketrans', 'partition', 'removeprefix', 'removesuffix', 'replace', 'rfind', 'rindex', 'rjust', 'rpartition', 'rsplit', 'rstrip', 'split', 'splitlines', 'startswith', 'strip', 'swapcase', 'title', 'translate', 'upper', 'zfill']\n"
     ]
    }
   ],
   "source": [
    "lst = []\n",
    "s = \"snehitha\"\n",
    "print(type(s))\n",
    "print(dir(s))"
   ]
  },
  {
   "cell_type": "code",
   "execution_count": 13,
   "metadata": {},
   "outputs": [
    {
     "name": "stdout",
     "output_type": "stream",
     "text": [
      "<class 'dict'>\n",
      "['__class__', '__class_getitem__', '__contains__', '__delattr__', '__delitem__', '__dir__', '__doc__', '__eq__', '__format__', '__ge__', '__getattribute__', '__getitem__', '__gt__', '__hash__', '__init__', '__init_subclass__', '__ior__', '__iter__', '__le__', '__len__', '__lt__', '__ne__', '__new__', '__or__', '__reduce__', '__reduce_ex__', '__repr__', '__reversed__', '__ror__', '__setattr__', '__setitem__', '__sizeof__', '__str__', '__subclasshook__', 'clear', 'copy', 'fromkeys', 'get', 'items', 'keys', 'pop', 'popitem', 'setdefault', 'update', 'values']\n",
      "dict_keys(['name', 'age', 'major', 'graduated'])\n",
      "dict_values(['John Doe', 21, 'Computer Science', False])\n"
     ]
    }
   ],
   "source": [
    "# print(student[\"name\"])\n",
    "# print(student[\"age\"])# does it print age? \n",
    "print(type(student)) \n",
    "# print(dir(lst))\n",
    "print(dir(student))\n",
    "\n",
    "print(student.keys())\n",
    "print(student.values())"
   ]
  },
  {
   "cell_type": "code",
   "execution_count": 14,
   "metadata": {},
   "outputs": [
    {
     "name": "stdout",
     "output_type": "stream",
     "text": [
      "{0: 'John Doe', 1: 21, 2: 'Computer Science', 3: False}\n"
     ]
    }
   ],
   "source": [
    "student = {\n",
    "    \"name\": \"John Doe\",\n",
    "    \"age\": 21,\n",
    "    \"major\": \"Computer Science\",\n",
    "    \"graduated\": False\n",
    "}\n",
    "\n",
    "empty_dct = {} \n",
    "\n",
    "lst = [False, 21, \"Computer Science\", \"John Doe\"] # 0,...len(lst)\n",
    "\n",
    "for index, data in enumerate(lst):\n",
    "    empty_dct[index] = data\n",
    "print(empty_dct)"
   ]
  },
  {
   "cell_type": "code",
   "execution_count": 15,
   "metadata": {},
   "outputs": [],
   "source": [
    "students_data = [\n",
    "    {\"Name\": \"Sravan\", \"Class\": \"Python\", \"Marks\": 50, \"Grade\": \"P\"},\n",
    "    {\"Name\": \"Snehitha\", \"Class\": \"Python\", \"Marks\": 50, \"Grade\": \"P\"},\n",
    "    {\"Name\": \"Ankitha\", \"Class\": \"Python\", \"Marks\": 0, \"Grade\": \"F\"},\n",
    "    {\"Name\": \"Suchith\", \"Class\": \"Python\", \"Marks\": 0, \"Grade\": \"F\"},\n",
    "    {\"Name\": \"Raja\", \"Class\": \"Python\", \"Marks\": 50, \"Grade\": \"P\"},\n",
    "    {\"Name\": \"Suklesh\", \"Class\": \"Python\", \"Marks\": 70, \"Grade\": \"P\"}\n",
    "]"
   ]
  },
  {
   "cell_type": "code",
   "execution_count": 22,
   "metadata": {},
   "outputs": [
    {
     "name": "stdout",
     "output_type": "stream",
     "text": [
      "50\n",
      "100\n",
      "100\n",
      "100\n",
      "150\n",
      "220\n",
      "Total Marks: 220\n",
      "Average Marks: 36.666666666666664\n",
      "Pass: 4\n",
      "Fail: 2\n"
     ]
    }
   ],
   "source": [
    "total_students = len(students_data)\n",
    "total_marks = 0\n",
    "total_pass = 0\n",
    "total_fail = 0\n",
    "for element in students_data:\n",
    "    total_marks += element[\"Marks\"] # avg_marks = avg_marks + element[\"Marks\"]\n",
    "\n",
    "    if element[\"Grade\"] == \"P\":\n",
    "        total_pass+=1\n",
    "    if element[\"Grade\"] == \"F\":\n",
    "        total_fail+=1\n",
    "    print(total_marks)\n",
    "print(\"Total Marks:\",total_marks)\n",
    "print(\"Average Marks:\", (total_marks/total_students)) # average\n",
    "print(\"Pass:\", total_pass)\n",
    "print(\"Fail:\", total_fail)"
   ]
  },
  {
   "cell_type": "code",
   "execution_count": 26,
   "metadata": {},
   "outputs": [],
   "source": [
    "students_data = [\n",
    "    {\"Name\": \"Sravan\", \"Class\": \"Python\", \"Marks\": 85, \"Grade\": \"P\"},\n",
    "    {\"Name\": \"Snehitha\", \"Class\": \"Python\", \"Marks\": 95, \"Grade\": \"P\"},\n",
    "    {\"Name\": \"Ankitha\", \"Class\": \"Python\", \"Marks\": 98, \"Grade\": \"F\"},\n",
    "    {\"Name\": \"Suchith\", \"Class\": \"Python\", \"Marks\": 99, \"Grade\": \"F\"},\n",
    "    {\"Name\": \"Raja\", \"Class\": \"Python\", \"Marks\": 60, \"Grade\": \"P\"},\n",
    "    {\"Name\": \"Suklesh\", \"Class\": \"Python\", \"Marks\": 70, \"Grade\": \"P\"}\n",
    "]"
   ]
  },
  {
   "cell_type": "code",
   "execution_count": 30,
   "metadata": {},
   "outputs": [
    {
     "name": "stdout",
     "output_type": "stream",
     "text": [
      "Suchith 99\n"
     ]
    }
   ],
   "source": [
    "# maximum marks\n",
    "highest_marks = 0\n",
    "name = \" \"\n",
    "for element in students_data:\n",
    "    if element[\"Marks\"] > highest_marks:\n",
    "        highest_marks = element[\"Marks\"]\n",
    "        name = element[\"Name\"]\n",
    "print(name, highest_marks)"
   ]
  },
  {
   "cell_type": "code",
   "execution_count": 37,
   "metadata": {},
   "outputs": [
    {
     "name": "stdout",
     "output_type": "stream",
     "text": [
      "[85, 95, 98, 99, 60, 70]\n",
      "Suchith\n"
     ]
    }
   ],
   "source": [
    "highest_marks = [] # not memory efficient \n",
    "# name =\n",
    "for element in students_data:\n",
    "    # if element[\"Marks\"] > highest_marks:\n",
    "        highest_marks.append(element[\"Marks\"])\n",
    "        # name = element[\"Name\"]\n",
    "# saved it in list\n",
    "print(highest_marks)\n",
    "max_marks = max(highest_marks) # maximum marks\n",
    "\n",
    "index_of_max_marks =  highest_marks.index(max_marks) # give you index of the element in the list  # calling a function ()\n",
    "\n",
    "output_data = students_data[index_of_max_marks] # list elemetns \n",
    "output_name = output_data[\"Name\"] # keys [],  dict {}\n",
    "print(output_name)\n",
    "print(\"Restarted\")\n",
    "# print(name, highest_marks)"
   ]
  }
 ],
 "metadata": {
  "kernelspec": {
   "display_name": "Python 3",
   "language": "python",
   "name": "python3"
  },
  "language_info": {
   "codemirror_mode": {
    "name": "ipython",
    "version": 3
   },
   "file_extension": ".py",
   "mimetype": "text/x-python",
   "name": "python",
   "nbconvert_exporter": "python",
   "pygments_lexer": "ipython3",
   "version": "3.10.12"
  }
 },
 "nbformat": 4,
 "nbformat_minor": 2
}
