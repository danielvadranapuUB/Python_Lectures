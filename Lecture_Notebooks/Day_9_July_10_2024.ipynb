{
 "cells": [
  {
   "cell_type": "code",
   "execution_count": null,
   "metadata": {},
   "outputs": [],
   "source": [
    "# decrementing the loop\n",
    "# operations \n",
    "# default parameter into the function\n",
    "# end=\" \" print\n",
    "# patterns # intro\n"
   ]
  },
  {
   "cell_type": "code",
   "execution_count": 6,
   "metadata": {},
   "outputs": [
    {
     "name": "stdout",
     "output_type": "stream",
     "text": [
      "0\n",
      "1\n",
      "2\n",
      "3\n",
      "4\n",
      "5\n",
      "6\n",
      "7\n",
      "8\n",
      "9\n",
      "10\n",
      "11\n",
      "12\n",
      "13\n",
      "14\n",
      "15\n",
      "16\n",
      "17\n",
      "18\n",
      "19\n",
      "20\n",
      "21\n",
      "22\n",
      "23\n",
      "24\n",
      "25\n",
      "26\n",
      "27\n",
      "28\n",
      "29\n",
      "30\n",
      "31\n",
      "32\n",
      "33\n",
      "34\n",
      "35\n",
      "36\n",
      "37\n",
      "38\n",
      "39\n",
      "40\n",
      "41\n",
      "42\n",
      "43\n",
      "44\n",
      "45\n",
      "46\n",
      "47\n",
      "48\n",
      "49\n",
      "50\n",
      "51\n",
      "52\n",
      "53\n",
      "54\n",
      "55\n",
      "56\n",
      "57\n",
      "58\n",
      "59\n",
      "60\n",
      "61\n",
      "62\n",
      "63\n",
      "64\n",
      "65\n",
      "66\n",
      "67\n",
      "68\n",
      "69\n",
      "70\n",
      "71\n",
      "72\n",
      "73\n",
      "74\n",
      "75\n",
      "76\n",
      "77\n",
      "78\n",
      "79\n",
      "80\n",
      "81\n",
      "82\n",
      "83\n",
      "84\n",
      "85\n",
      "86\n",
      "87\n",
      "88\n",
      "89\n",
      "90\n",
      "91\n",
      "92\n",
      "93\n",
      "94\n",
      "95\n",
      "96\n",
      "97\n",
      "98\n",
      "99\n"
     ]
    }
   ],
   "source": [
    "n =100\n",
    "for i in range(n):\n",
    "    print(i)"
   ]
  },
  {
   "cell_type": "code",
   "execution_count": 7,
   "metadata": {},
   "outputs": [
    {
     "name": "stdout",
     "output_type": "stream",
     "text": [
      "4\n",
      "3\n",
      "2\n",
      "1\n",
      "0\n"
     ]
    }
   ],
   "source": [
    "for j in range(4, -1, -1):\n",
    "    print(j)"
   ]
  },
  {
   "cell_type": "code",
   "execution_count": 8,
   "metadata": {},
   "outputs": [
    {
     "name": "stdout",
     "output_type": "stream",
     "text": [
      "1\n",
      "2\n",
      "3\n",
      "4\n",
      "5\n",
      "6\n",
      "7\n",
      "8\n",
      "9\n",
      "10\n",
      "11\n",
      "12\n",
      "13\n",
      "14\n",
      "15\n",
      "16\n",
      "17\n",
      "18\n",
      "19\n",
      "20\n",
      "21\n",
      "22\n",
      "23\n",
      "24\n",
      "25\n",
      "26\n",
      "27\n",
      "28\n",
      "29\n",
      "30\n",
      "31\n",
      "32\n",
      "33\n",
      "34\n",
      "35\n",
      "36\n",
      "37\n",
      "38\n",
      "39\n",
      "40\n",
      "41\n",
      "42\n",
      "43\n",
      "44\n",
      "45\n",
      "46\n",
      "47\n",
      "48\n",
      "49\n",
      "50\n",
      "51\n",
      "52\n",
      "53\n",
      "54\n",
      "55\n",
      "56\n",
      "57\n",
      "58\n",
      "59\n",
      "60\n",
      "61\n",
      "62\n",
      "63\n",
      "64\n",
      "65\n",
      "66\n",
      "67\n",
      "68\n",
      "69\n",
      "70\n",
      "71\n",
      "72\n",
      "73\n",
      "74\n",
      "75\n",
      "76\n",
      "77\n",
      "78\n",
      "79\n",
      "80\n",
      "81\n",
      "82\n",
      "83\n",
      "84\n",
      "85\n",
      "86\n",
      "87\n",
      "88\n",
      "89\n",
      "90\n",
      "91\n",
      "92\n",
      "93\n",
      "94\n",
      "95\n",
      "96\n",
      "97\n",
      "98\n",
      "99\n",
      "100\n"
     ]
    }
   ],
   "source": [
    "count = 0\n",
    "for i in range(100):\n",
    "    count = count +1\n",
    "    print(count)"
   ]
  },
  {
   "cell_type": "code",
   "execution_count": 9,
   "metadata": {},
   "outputs": [
    {
     "name": "stdout",
     "output_type": "stream",
     "text": [
      "4\n",
      "3\n",
      "2\n",
      "1\n",
      "0\n"
     ]
    }
   ],
   "source": [
    "j = 5\n",
    "for i in range(j):\n",
    "    j = j-1\n",
    "    print(j) "
   ]
  },
  {
   "cell_type": "code",
   "execution_count": 10,
   "metadata": {},
   "outputs": [
    {
     "ename": "TypeError",
     "evalue": "test() missing 1 required positional argument: 'z'",
     "output_type": "error",
     "traceback": [
      "\u001b[0;31m---------------------------------------------------------------------------\u001b[0m",
      "\u001b[0;31mTypeError\u001b[0m                                 Traceback (most recent call last)",
      "Cell \u001b[0;32mIn[10], line 4\u001b[0m\n\u001b[1;32m      1\u001b[0m \u001b[38;5;28;01mdef\u001b[39;00m \u001b[38;5;21mtest\u001b[39m(x, y, z):\n\u001b[1;32m      2\u001b[0m     \u001b[38;5;28;01mreturn\u001b[39;00m x, y, z\n\u001b[0;32m----> 4\u001b[0m x, y, z \u001b[38;5;241m=\u001b[39m \u001b[43mtest\u001b[49m\u001b[43m(\u001b[49m\u001b[38;5;241;43m1\u001b[39;49m\u001b[43m,\u001b[49m\u001b[43m \u001b[49m\u001b[38;5;241;43m2\u001b[39;49m\u001b[43m)\u001b[49m \u001b[38;5;66;03m# error, error, error \u001b[39;00m\n",
      "\u001b[0;31mTypeError\u001b[0m: test() missing 1 required positional argument: 'z'"
     ]
    }
   ],
   "source": [
    "def test(x, y, z):\n",
    "    return x, y, z\n",
    "\n",
    "x, y, z = test(1, 2) # error, error, error "
   ]
  },
  {
   "cell_type": "code",
   "execution_count": 11,
   "metadata": {},
   "outputs": [
    {
     "name": "stdout",
     "output_type": "stream",
     "text": [
      "(1, 3, 3)\n",
      "(1, 2, 3)\n",
      "(2, 2, 2)\n",
      "(0, 1, 0)\n",
      "(10, 0, 3)\n",
      "(1, 2, 9)\n"
     ]
    }
   ],
   "source": [
    "def test(x=1, y=2, z =3): # default arguments, \n",
    "    return x, y, z # returning three values\n",
    "\n",
    "print(test(1, 3)) # suchith input arguments (1, 3, 3) --> (1, 3, 3)\n",
    "print(test()) # sravan 1, 2,3 -- >1, 2, 3\n",
    "print(test(2, 2 ,2)) # snehitha, 2, 2, 2 --> 2, 2, 2\n",
    "print(test(0, 1, 0)) # raja -->  0, 1, 0 --> 0, 1, 0\n",
    "print(test(x=10, y= 0)) # sukesh --> 10, 0, 3\n",
    "print(test(z=9)) # ankita --> 1, 2, 9 --> 1, 2, 9\n",
    "\n",
    "\n",
    "# test(x=10, 0, 1) # syntatically wrong"
   ]
  },
  {
   "cell_type": "code",
   "execution_count": 13,
   "metadata": {},
   "outputs": [
    {
     "name": "stdout",
     "output_type": "stream",
     "text": [
      "rajais a ____\n",
      "Nonesravan isbad\n",
      "Suchithlogically is correct or wrong\n",
      "nevermindsnehitha\n",
      "Noneemoankita\n",
      "sukeshthinksa lot\n"
     ]
    }
   ],
   "source": [
    "def str_test(x=\"None\", y = \"Good\", z=\"hopefully\"):\n",
    "    return print(x + y + z) # how many we are returning? 1, \n",
    "\n",
    "\n",
    "str_test(\"raja\", \"is a\", \" ____\") # raja is a _____\n",
    "str_test(y=\"sravan is\", z=\"bad\") # None sravan is bad\n",
    "str_test(x=\"Suchith\", y=\"logically is \", z = \"correct or wrong\" ) # suchith logically is correct or wrong\n",
    "str_test(x=\"never\", y=\"mind\", z=\"snehitha\")  # never minf snehitha\n",
    "str_test(z=\"ankita\", y=\"emo\") # none emo ankita\n",
    "str_test(\"sukesh\", \"thinks\", \"a lot\") # sukesh thinks a lot "
   ]
  },
  {
   "cell_type": "code",
   "execution_count": 19,
   "metadata": {},
   "outputs": [
    {
     "name": "stdout",
     "output_type": "stream",
     "text": [
      "0     1     2     3     4     \n",
      "5 6 7 8 9 "
     ]
    }
   ],
   "source": [
    "for i in range(5):\n",
    "    print(i, end=\" \") # \"\\n\" go to new line \n",
    "print() #end=\"\\n\"\n",
    "for i in range(5, 10):\n",
    "    print(i, end=\" \") # \"\\n\" go to new line "
   ]
  },
  {
   "cell_type": "code",
   "execution_count": 24,
   "metadata": {},
   "outputs": [
    {
     "name": "stdout",
     "output_type": "stream",
     "text": [
      "hello world * Welcome to the class\n",
      "this is a python class\n"
     ]
    }
   ],
   "source": [
    "print(\"hello world\", end=\" * \")\n",
    "print(\"Welcome to the class\")\n",
    "print(\"this is a python class\")"
   ]
  },
  {
   "cell_type": "code",
   "execution_count": 27,
   "metadata": {},
   "outputs": [
    {
     "name": "stdout",
     "output_type": "stream",
     "text": [
      "* - - - - - \n",
      "- * - - - - \n",
      "- - * - - - \n",
      "- - - * - - \n",
      "- - - - * - \n",
      "- - - - - * \n"
     ]
    }
   ],
   "source": [
    "def diagonal(n):\n",
    "    for i in range(n):\n",
    "        for j in range(n):\n",
    "            if i == j:\n",
    "                print(\"*\", end=\" \")\n",
    "            else:\n",
    "                print(\"-\", end=\" \")\n",
    "        print() # new line\n",
    "\n",
    "diagonal(6)"
   ]
  },
  {
   "cell_type": "code",
   "execution_count": 28,
   "metadata": {},
   "outputs": [
    {
     "name": "stdout",
     "output_type": "stream",
     "text": [
      "* * * * * \n",
      "* - - - * \n",
      "* - - - * \n",
      "* - - - * \n",
      "* * * * * \n"
     ]
    }
   ],
   "source": [
    "def boundaries(n):\n",
    "    for i in range(n):\n",
    "        for j in range(n):\n",
    "            if i == 0 or i == n-1 or j == 0 or j == n-1:\n",
    "                print(\"*\", end=\" \")\n",
    "            else:\n",
    "                print(\"-\", end=\" \")\n",
    "        print()\n",
    "\n",
    "boundaries(5)"
   ]
  },
  {
   "cell_type": "code",
   "execution_count": null,
   "metadata": {},
   "outputs": [],
   "source": []
  }
 ],
 "metadata": {
  "kernelspec": {
   "display_name": "Python 3",
   "language": "python",
   "name": "python3"
  },
  "language_info": {
   "codemirror_mode": {
    "name": "ipython",
    "version": 3
   },
   "file_extension": ".py",
   "mimetype": "text/x-python",
   "name": "python",
   "nbconvert_exporter": "python",
   "pygments_lexer": "ipython3",
   "version": "3.10.12"
  }
 },
 "nbformat": 4,
 "nbformat_minor": 2
}
