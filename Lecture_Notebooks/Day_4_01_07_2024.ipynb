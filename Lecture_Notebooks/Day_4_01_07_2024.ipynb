{
 "cells": [
  {
   "cell_type": "code",
   "execution_count": 2,
   "metadata": {},
   "outputs": [
    {
     "name": "stdout",
     "output_type": "stream",
     "text": [
      "here\n",
      "hello\n"
     ]
    }
   ],
   "source": [
    "print(\"here\")\n",
    "print(\"hello\")"
   ]
  },
  {
   "cell_type": "code",
   "execution_count": 4,
   "metadata": {},
   "outputs": [
    {
     "name": "stdout",
     "output_type": "stream",
     "text": [
      "sravan\n",
      "index:0, value:0\n",
      "index:1, value:2\n",
      "index:2, value:4\n",
      "index:3, value:6\n",
      "index:4, value:8\n",
      "index:5, value:10\n",
      "index:6, value:12\n",
      "index:7, value:14\n",
      "index:8, value:16\n",
      "index:9, value:18\n",
      "here\n"
     ]
    }
   ],
   "source": [
    "name = \"sravan\"\n",
    "\n",
    "# indentation\n",
    "\n",
    "if name == \"sravan\":\n",
    "    print(name)\n",
    "\n",
    "for i in range(10):\n",
    "    print(f\"index:{i}, value:{i*2}\")\n",
    "print(\"here\")\n",
    "    # print(i)"
   ]
  },
  {
   "cell_type": "code",
   "execution_count": 7,
   "metadata": {},
   "outputs": [
    {
     "name": "stdout",
     "output_type": "stream",
     "text": [
      "B 1\n",
      "o 2\n",
      "o 3\n",
      "m 4\n",
      "_ 5\n",
      "b 6\n",
      "o 7\n",
      "o 8\n",
      "m 9\n",
      "_ 10\n",
      "b 11\n",
      "o 12\n",
      "o 13\n",
      "m 14\n"
     ]
    }
   ],
   "source": [
    "# strings\n",
    "\n",
    "char = \"c\"\n",
    "variable = \"Boom_boom_boom\" #14 # 10 \n",
    "\n",
    "count = 0\n",
    "for element in variable:\n",
    "    count+=1\n",
    "    print(element, count)\n",
    "\n",
    "print(len(variable))\n",
    "\n"
   ]
  },
  {
   "cell_type": "code",
   "execution_count": 11,
   "metadata": {},
   "outputs": [
    {
     "data": {
      "text/plain": [
       "False"
      ]
     },
     "execution_count": 11,
     "metadata": {},
     "output_type": "execute_result"
    }
   ],
   "source": [
    "variable  = \"dallas\"\n",
    "\n",
    "\n",
    "variable.upper()\n",
    "variable.isupper()"
   ]
  },
  {
   "cell_type": "code",
   "execution_count": 12,
   "metadata": {},
   "outputs": [
    {
     "data": {
      "text/plain": [
       "False"
      ]
     },
     "execution_count": 12,
     "metadata": {},
     "output_type": "execute_result"
    }
   ],
   "source": [
    "variable = \"Dallas\"\n",
    "\n",
    "variable.lower()\n",
    "variable.islower()"
   ]
  },
  {
   "cell_type": "code",
   "execution_count": 14,
   "metadata": {},
   "outputs": [
    {
     "name": "stdout",
     "output_type": "stream",
     "text": [
      "0\n",
      "0\n"
     ]
    }
   ],
   "source": [
    "# f strings\n",
    "def mul(x1, x2):\n",
    "    return x1 * x2\n",
    "# \n",
    "# x = 0\n",
    "# def test(x, y):\n",
    "#     x= x+y # \n",
    "    # print(x)\n",
    "\n",
    "\n",
    "# local variable  and global variable\n",
    "# print(x)\n",
    "# test(3, 4)\n",
    "# print(x)\n",
    "# print(output)\n"
   ]
  },
  {
   "cell_type": "code",
   "execution_count": 16,
   "metadata": {},
   "outputs": [
    {
     "name": "stdout",
     "output_type": "stream",
     "text": [
      "6 * 1 = 6\n",
      "6 * 2 = 12\n",
      "6 * 3 = 18\n",
      "6 * 4 = 24\n",
      "6 * 5 = 30\n",
      "6 * 6 = 36\n",
      "6 * 7 = 42\n",
      "6 * 8 = 48\n",
      "6 * 9 = 54\n",
      "6 * 10 = 60\n"
     ]
    }
   ],
   "source": [
    "n = 6\n",
    "for i in range(1, 11):\n",
    "    # print(n, \"*\", i, mul(n, i))\n",
    "    print(f\"{n} * {i} = {mul(n, i)}\") # f string "
   ]
  },
  {
   "cell_type": "code",
   "execution_count": 17,
   "metadata": {},
   "outputs": [
    {
     "data": {
      "text/plain": [
       "'Dallas'"
      ]
     },
     "execution_count": 17,
     "metadata": {},
     "output_type": "execute_result"
    }
   ],
   "source": [
    "variable  = \"dallas\"\n",
    "variable.capitalize()"
   ]
  },
  {
   "cell_type": "code",
   "execution_count": 18,
   "metadata": {},
   "outputs": [
    {
     "data": {
      "text/plain": [
       "'Rocky bhai'"
      ]
     },
     "execution_count": 18,
     "metadata": {},
     "output_type": "execute_result"
    }
   ],
   "source": [
    "variable = \"rocky bhai\"\n",
    "variable.capitalize()"
   ]
  },
  {
   "cell_type": "code",
   "execution_count": 37,
   "metadata": {},
   "outputs": [],
   "source": [
    "variable  = \"Dallas is the best place to enjoy, Dallas is hot, Dallas is humid\""
   ]
  },
  {
   "cell_type": "code",
   "execution_count": 38,
   "metadata": {},
   "outputs": [
    {
     "data": {
      "text/plain": [
       "'NY is the best place to enjoy, NY is hot, NY is humid'"
      ]
     },
     "execution_count": 38,
     "metadata": {},
     "output_type": "execute_result"
    }
   ],
   "source": [
    "variable.replace(\"Dallas\", \"NY\") # string replacement"
   ]
  },
  {
   "cell_type": "code",
   "execution_count": 35,
   "metadata": {},
   "outputs": [
    {
     "name": "stdout",
     "output_type": "stream",
     "text": [
      "3\n",
      "3\n",
      "['Dallas is the best place to enjoy']\n"
     ]
    }
   ],
   "source": [
    "k = variable.split(\"/\")\n",
    "# print(variable.strip())\n",
    "print(variable.count(\"a\"))\n",
    "print(variable.count(\"l\"))\n",
    "print(k)"
   ]
  },
  {
   "cell_type": "code",
   "execution_count": 39,
   "metadata": {},
   "outputs": [],
   "source": [
    "# check if a word is lower if it is lower make it capital\n",
    "\n",
    "names = [\"Sravan\", \"suchith\", \"sukesh\", \"Snehitha\", \"daniel\"]\n",
    "new_list = [\"Sravan\", \"Suchith\", \"Sukesh\", \"Snehitha\", \"Daniel\"]"
   ]
  },
  {
   "cell_type": "code",
   "execution_count": 43,
   "metadata": {},
   "outputs": [
    {
     "name": "stdout",
     "output_type": "stream",
     "text": [
      "[1, 2, 3, 4, 5, 6]\n",
      "[1, 2, 3, 4, 5, 6]\n"
     ]
    }
   ],
   "source": [
    "numbers = [1, 2, 3, 4, 5, 6]\n",
    "n_list = [] # empty list \n",
    "# how do we add elements into the list append()\n",
    "for i in range(len(numbers)):\n",
    "    number = numbers[i]\n",
    "    n_list.append(number)\n",
    "print(numbers)\n",
    "print(n_list)"
   ]
  },
  {
   "cell_type": "code",
   "execution_count": 40,
   "metadata": {},
   "outputs": [],
   "source": [
    "# python version \n",
    "\n",
    "\"\"\"\n",
    "for \n",
    "    if :\n",
    "     \n",
    "        making to captialize \n",
    "        appendig it into the new list\n",
    "    else:\n",
    "        append new_list\n",
    "    \n",
    "    \n",
    " \"\"\""
   ]
  },
  {
   "cell_type": "code",
   "execution_count": 52,
   "metadata": {},
   "outputs": [],
   "source": [
    "def table_(number, n):\n",
    "    for i in range(1, n+1):\n",
    "        print(f\"{number}* {i} = {n*i}\")"
   ]
  },
  {
   "cell_type": "code",
   "execution_count": 53,
   "metadata": {},
   "outputs": [
    {
     "name": "stdout",
     "output_type": "stream",
     "text": [
      "15* 1 = 199\n",
      "15* 2 = 398\n",
      "15* 3 = 597\n",
      "15* 4 = 796\n",
      "15* 5 = 995\n",
      "15* 6 = 1194\n",
      "15* 7 = 1393\n",
      "15* 8 = 1592\n",
      "15* 9 = 1791\n",
      "15* 10 = 1990\n",
      "15* 11 = 2189\n",
      "15* 12 = 2388\n",
      "15* 13 = 2587\n",
      "15* 14 = 2786\n",
      "15* 15 = 2985\n",
      "15* 16 = 3184\n",
      "15* 17 = 3383\n",
      "15* 18 = 3582\n",
      "15* 19 = 3781\n",
      "15* 20 = 3980\n",
      "15* 21 = 4179\n",
      "15* 22 = 4378\n",
      "15* 23 = 4577\n",
      "15* 24 = 4776\n",
      "15* 25 = 4975\n",
      "15* 26 = 5174\n",
      "15* 27 = 5373\n",
      "15* 28 = 5572\n",
      "15* 29 = 5771\n",
      "15* 30 = 5970\n",
      "15* 31 = 6169\n",
      "15* 32 = 6368\n",
      "15* 33 = 6567\n",
      "15* 34 = 6766\n",
      "15* 35 = 6965\n",
      "15* 36 = 7164\n",
      "15* 37 = 7363\n",
      "15* 38 = 7562\n",
      "15* 39 = 7761\n",
      "15* 40 = 7960\n",
      "15* 41 = 8159\n",
      "15* 42 = 8358\n",
      "15* 43 = 8557\n",
      "15* 44 = 8756\n",
      "15* 45 = 8955\n",
      "15* 46 = 9154\n",
      "15* 47 = 9353\n",
      "15* 48 = 9552\n",
      "15* 49 = 9751\n",
      "15* 50 = 9950\n",
      "15* 51 = 10149\n",
      "15* 52 = 10348\n",
      "15* 53 = 10547\n",
      "15* 54 = 10746\n",
      "15* 55 = 10945\n",
      "15* 56 = 11144\n",
      "15* 57 = 11343\n",
      "15* 58 = 11542\n",
      "15* 59 = 11741\n",
      "15* 60 = 11940\n",
      "15* 61 = 12139\n",
      "15* 62 = 12338\n",
      "15* 63 = 12537\n",
      "15* 64 = 12736\n",
      "15* 65 = 12935\n",
      "15* 66 = 13134\n",
      "15* 67 = 13333\n",
      "15* 68 = 13532\n",
      "15* 69 = 13731\n",
      "15* 70 = 13930\n",
      "15* 71 = 14129\n",
      "15* 72 = 14328\n",
      "15* 73 = 14527\n",
      "15* 74 = 14726\n",
      "15* 75 = 14925\n",
      "15* 76 = 15124\n",
      "15* 77 = 15323\n",
      "15* 78 = 15522\n",
      "15* 79 = 15721\n",
      "15* 80 = 15920\n",
      "15* 81 = 16119\n",
      "15* 82 = 16318\n",
      "15* 83 = 16517\n",
      "15* 84 = 16716\n",
      "15* 85 = 16915\n",
      "15* 86 = 17114\n",
      "15* 87 = 17313\n",
      "15* 88 = 17512\n",
      "15* 89 = 17711\n",
      "15* 90 = 17910\n",
      "15* 91 = 18109\n",
      "15* 92 = 18308\n",
      "15* 93 = 18507\n",
      "15* 94 = 18706\n",
      "15* 95 = 18905\n",
      "15* 96 = 19104\n",
      "15* 97 = 19303\n",
      "15* 98 = 19502\n",
      "15* 99 = 19701\n",
      "15* 100 = 19900\n",
      "15* 101 = 20099\n",
      "15* 102 = 20298\n",
      "15* 103 = 20497\n",
      "15* 104 = 20696\n",
      "15* 105 = 20895\n",
      "15* 106 = 21094\n",
      "15* 107 = 21293\n",
      "15* 108 = 21492\n",
      "15* 109 = 21691\n",
      "15* 110 = 21890\n",
      "15* 111 = 22089\n",
      "15* 112 = 22288\n",
      "15* 113 = 22487\n",
      "15* 114 = 22686\n",
      "15* 115 = 22885\n",
      "15* 116 = 23084\n",
      "15* 117 = 23283\n",
      "15* 118 = 23482\n",
      "15* 119 = 23681\n",
      "15* 120 = 23880\n",
      "15* 121 = 24079\n",
      "15* 122 = 24278\n",
      "15* 123 = 24477\n",
      "15* 124 = 24676\n",
      "15* 125 = 24875\n",
      "15* 126 = 25074\n",
      "15* 127 = 25273\n",
      "15* 128 = 25472\n",
      "15* 129 = 25671\n",
      "15* 130 = 25870\n",
      "15* 131 = 26069\n",
      "15* 132 = 26268\n",
      "15* 133 = 26467\n",
      "15* 134 = 26666\n",
      "15* 135 = 26865\n",
      "15* 136 = 27064\n",
      "15* 137 = 27263\n",
      "15* 138 = 27462\n",
      "15* 139 = 27661\n",
      "15* 140 = 27860\n",
      "15* 141 = 28059\n",
      "15* 142 = 28258\n",
      "15* 143 = 28457\n",
      "15* 144 = 28656\n",
      "15* 145 = 28855\n",
      "15* 146 = 29054\n",
      "15* 147 = 29253\n",
      "15* 148 = 29452\n",
      "15* 149 = 29651\n",
      "15* 150 = 29850\n",
      "15* 151 = 30049\n",
      "15* 152 = 30248\n",
      "15* 153 = 30447\n",
      "15* 154 = 30646\n",
      "15* 155 = 30845\n",
      "15* 156 = 31044\n",
      "15* 157 = 31243\n",
      "15* 158 = 31442\n",
      "15* 159 = 31641\n",
      "15* 160 = 31840\n",
      "15* 161 = 32039\n",
      "15* 162 = 32238\n",
      "15* 163 = 32437\n",
      "15* 164 = 32636\n",
      "15* 165 = 32835\n",
      "15* 166 = 33034\n",
      "15* 167 = 33233\n",
      "15* 168 = 33432\n",
      "15* 169 = 33631\n",
      "15* 170 = 33830\n",
      "15* 171 = 34029\n",
      "15* 172 = 34228\n",
      "15* 173 = 34427\n",
      "15* 174 = 34626\n",
      "15* 175 = 34825\n",
      "15* 176 = 35024\n",
      "15* 177 = 35223\n",
      "15* 178 = 35422\n",
      "15* 179 = 35621\n",
      "15* 180 = 35820\n",
      "15* 181 = 36019\n",
      "15* 182 = 36218\n",
      "15* 183 = 36417\n",
      "15* 184 = 36616\n",
      "15* 185 = 36815\n",
      "15* 186 = 37014\n",
      "15* 187 = 37213\n",
      "15* 188 = 37412\n",
      "15* 189 = 37611\n",
      "15* 190 = 37810\n",
      "15* 191 = 38009\n",
      "15* 192 = 38208\n",
      "15* 193 = 38407\n",
      "15* 194 = 38606\n",
      "15* 195 = 38805\n",
      "15* 196 = 39004\n",
      "15* 197 = 39203\n",
      "15* 198 = 39402\n",
      "15* 199 = 39601\n"
     ]
    }
   ],
   "source": [
    "table = int(input(\"Entere the table number:\"))\n",
    "range_of_the_table = int(input(\"enter the range\"))\n",
    "\n",
    "\n",
    "table_(table, range_of_the_table)\n",
    "# print(table, range_of_the_table)"
   ]
  },
  {
   "cell_type": "code",
   "execution_count": 47,
   "metadata": {},
   "outputs": [
    {
     "name": "stdout",
     "output_type": "stream",
     "text": [
      "[1, 2, 3, 4, 5, 6, 6, 6, 6, 6, 78, 79, 10]\n"
     ]
    }
   ],
   "source": [
    "numbers = [1, 2, 3,4, 5, 6, 6,6,6,6]\n",
    "numbers.extend([78, 79, 10]) # to two lists \n",
    "print(numbers)\n"
   ]
  },
  {
   "cell_type": "code",
   "execution_count": 54,
   "metadata": {},
   "outputs": [
    {
     "name": "stdout",
     "output_type": "stream",
     "text": [
      "0\n"
     ]
    }
   ],
   "source": [
    "# for i in range(0, 2, 100): # read\n",
    "#     print(i)"
   ]
  },
  {
   "cell_type": "code",
   "execution_count": 55,
   "metadata": {},
   "outputs": [
    {
     "ename": "TypeError",
     "evalue": "func() missing 1 required positional argument: 'n'",
     "output_type": "error",
     "traceback": [
      "\u001b[0;31m---------------------------------------------------------------------------\u001b[0m",
      "\u001b[0;31mTypeError\u001b[0m                                 Traceback (most recent call last)",
      "Cell \u001b[0;32mIn[55], line 3\u001b[0m\n\u001b[1;32m      1\u001b[0m \u001b[38;5;28;01mdef\u001b[39;00m \u001b[38;5;21mfunc\u001b[39m(n):\n\u001b[1;32m      2\u001b[0m     \u001b[38;5;28;01mreturn\u001b[39;00m n\n\u001b[0;32m----> 3\u001b[0m \u001b[38;5;28mprint\u001b[39m(\u001b[43mfunc\u001b[49m\u001b[43m(\u001b[49m\u001b[43m)\u001b[49m)\n",
      "\u001b[0;31mTypeError\u001b[0m: func() missing 1 required positional argument: 'n'"
     ]
    }
   ],
   "source": [
    "def func(n):\n",
    "    return n\n",
    "print(func())"
   ]
  },
  {
   "cell_type": "code",
   "execution_count": null,
   "metadata": {},
   "outputs": [],
   "source": []
  }
 ],
 "metadata": {
  "kernelspec": {
   "display_name": "Python 3",
   "language": "python",
   "name": "python3"
  },
  "language_info": {
   "codemirror_mode": {
    "name": "ipython",
    "version": 3
   },
   "file_extension": ".py",
   "mimetype": "text/x-python",
   "name": "python",
   "nbconvert_exporter": "python",
   "pygments_lexer": "ipython3",
   "version": "3.10.12"
  }
 },
 "nbformat": 4,
 "nbformat_minor": 2
}
