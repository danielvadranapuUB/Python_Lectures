{
 "cells": [
  {
   "cell_type": "code",
   "execution_count": 5,
   "metadata": {},
   "outputs": [
    {
     "name": "stdout",
     "output_type": "stream",
     "text": [
      "Hello World\n"
     ]
    }
   ],
   "source": [
    "print(\"Hello World\") \n",
    "\n",
    "# print() it's an in built fucntion/object \n",
    "\n",
    "# Shift Enter to execute the cell and it will create a new cell\n",
    "\n"
   ]
  },
  {
   "cell_type": "code",
   "execution_count": null,
   "metadata": {},
   "outputs": [],
   "source": [
    "# Data Types:\n",
    "\"\"\"\n",
    "Text Type: \tstr \"\" # Limit for the memory\n",
    "Numeric Types: \tint, float # Limit for the memory \n",
    "Sequence Types: \tlist, tuple, range \n",
    "Mapping Type: \tdict\n",
    "Set Types: \tset,\n",
    "Boolean Type: \tbool\n",
    "None Type: \tNoneType\n",
    "Binary Types: \tbytes, bytearray\n",
    "\n",
    "\"\"\"\n",
    "\n",
    "# Variable\n"
   ]
  },
  {
   "cell_type": "code",
   "execution_count": 11,
   "metadata": {},
   "outputs": [
    {
     "name": "stdout",
     "output_type": "stream",
     "text": [
      "Devi\n",
      "6\n",
      "6.234\n"
     ]
    }
   ],
   "source": [
    "name = \"Devi\" # string\n",
    "print(name)\n",
    "number = 6 # integer\n",
    "print(number)\n",
    "number_1 = 6.234 # float\n",
    "print(number_1)\n"
   ]
  },
  {
   "cell_type": "code",
   "execution_count": 12,
   "metadata": {},
   "outputs": [
    {
     "name": "stdout",
     "output_type": "stream",
     "text": [
      "<class 'str'> <class 'int'> <class 'float'>\n"
     ]
    }
   ],
   "source": [
    "print(type(name), type(number), type(number_1))"
   ]
  },
  {
   "cell_type": "code",
   "execution_count": null,
   "metadata": {},
   "outputs": [],
   "source": [
    "# nums = [100, 101, 102, 0, 1]\n",
    "\n",
    "# nums = [0, 0, 0, 0]\n",
    "# nums = [101, 0]\n",
    "# nums = [0,3,7,2,5,8,4,6,0,1]\n",
    "# nums = [100,4,200,1,3,2]\n",
    "# nums = [0,3,7,2,5,8,4,6,0,1]\n",
    "# nums = [1, 5, 9, 15]\n",
    "# nums = [0, -1]\n",
    "# nums = [0, -1, -2, 1, 2, 3, -3, 10, -10]\n",
    "# nums = [9,1,-3,2,4,8,3,-1,6,-2,-4,7]\n",
    "nums = [0,1,2,4,8,5,6,7,9,3,55,88,77,99,999999999]\n",
    "# print(max(nums))\n",
    "if len(nums):\n",
    "    max_num = max(nums)\n",
    "    min_num = min(nums)\n",
    "    new_list = [False] * (max_num - min_num + 1)\n",
    "    for num in nums:\n",
    "        new_list[num - min_num] = True\n",
    "    print(new_list)\n",
    "    best_max = 0\n",
    "    count = 0\n",
    "\n",
    "    \n",
    "    for i in range(len(new_list)):\n",
    "        \n",
    "        if new_list[i]!=0:\n",
    "            count+=1\n",
    "        else:\n",
    "            count = 0\n",
    "        if count > best_max:\n",
    "            best_max = count\n",
    "    print(best_max)\n",
    "else:\n",
    "    print(0)"
   ]
  },
  {
   "cell_type": "code",
   "execution_count": null,
   "metadata": {},
   "outputs": [],
   "source": []
  }
 ],
 "metadata": {
  "kernelspec": {
   "display_name": "Python 3",
   "language": "python",
   "name": "python3"
  },
  "language_info": {
   "codemirror_mode": {
    "name": "ipython",
    "version": 3
   },
   "file_extension": ".py",
   "mimetype": "text/x-python",
   "name": "python",
   "nbconvert_exporter": "python",
   "pygments_lexer": "ipython3",
   "version": "3.10.12"
  }
 },
 "nbformat": 4,
 "nbformat_minor": 2
}
